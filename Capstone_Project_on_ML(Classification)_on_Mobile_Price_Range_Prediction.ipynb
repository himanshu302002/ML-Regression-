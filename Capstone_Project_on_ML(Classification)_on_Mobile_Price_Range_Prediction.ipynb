{
  "nbformat": 4,
  "nbformat_minor": 0,
  "metadata": {
    "colab": {
      "provenance": [],
      "authorship_tag": "ABX9TyMCs6wKUTGiK5NN5DPC86UR",
      "include_colab_link": true
    },
    "kernelspec": {
      "name": "python3",
      "display_name": "Python 3"
    },
    "language_info": {
      "name": "python"
    }
  },
  "cells": [
    {
      "cell_type": "markdown",
      "metadata": {
        "id": "view-in-github",
        "colab_type": "text"
      },
      "source": [
        "<a href=\"https://colab.research.google.com/github/himanshu302002/ML-Regression-/blob/main/Capstone_Project_on_ML(Classification)_on_Mobile_Price_Range_Prediction.ipynb\" target=\"_parent\"><img src=\"https://colab.research.google.com/assets/colab-badge.svg\" alt=\"Open In Colab\"/></a>"
      ]
    },
    {
      "cell_type": "markdown",
      "source": [
        "**Github Link :**"
      ],
      "metadata": {
        "id": "a9Qn9W7JlQdF"
      }
    },
    {
      "cell_type": "markdown",
      "source": [
        "https://github.com/himanshu302002/ML-Classification-.git"
      ],
      "metadata": {
        "id": "P81gbAKalXBJ"
      }
    },
    {
      "cell_type": "markdown",
      "source": [
        "# **Project Name**    -\n"
      ],
      "metadata": {
        "id": "3LsR7gKslxhZ"
      }
    },
    {
      "cell_type": "markdown",
      "source": [
        "##### **Project Type**    - ML(Classification) on Mobile Price Range Prediction\n",
        "\n",
        "##### **Contribution**    - Individual(Himanshu Goel)\n",
        "\n"
      ],
      "metadata": {
        "id": "3D48wTKUl7TW"
      }
    },
    {
      "cell_type": "markdown",
      "source": [
        "**In the competitive mobile phone market companies want\n",
        "to understand sales data of mobile phones and factors which drive the prices.\n",
        "The objective is to find out some relation between features of a mobile phone(eg:- RAM,\n",
        "Internal Memory, etc) and its selling price. In this problem, we do not have to predict the\n",
        "actual price but a price range indicating how high the price is**\n",
        "\n",
        "\n"
      ],
      "metadata": {
        "id": "U1pqXkLhmM2Z"
      }
    },
    {
      "cell_type": "markdown",
      "source": [
        "**Data Description -**\n"
      ],
      "metadata": {
        "id": "dBYe2v0XmlNm"
      }
    },
    {
      "cell_type": "markdown",
      "source": [],
      "metadata": {
        "id": "RkmWkqMNmoph"
      }
    }
  ]
}